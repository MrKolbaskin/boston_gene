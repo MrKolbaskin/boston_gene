{
 "cells": [
  {
   "cell_type": "markdown",
   "metadata": {},
   "source": [
    "### Ex1"
   ]
  },
  {
   "cell_type": "code",
   "execution_count": 2,
   "metadata": {},
   "outputs": [],
   "source": [
    "# Create two variables, var1 and var2, both with the same value.\n",
    "var1, var2 = 1, 1\n",
    "\n",
    "# Create two variables, num1 and num2, which multiply together to give 16.\n",
    "num1, num2 = 8, 2\n",
    "assert num1 * num2 == 16"
   ]
  },
  {
   "cell_type": "markdown",
   "metadata": {},
   "source": [
    "### Ex2"
   ]
  },
  {
   "cell_type": "code",
   "execution_count": 4,
   "metadata": {},
   "outputs": [],
   "source": [
    "# Create a list, called my_list, with three numbers. The total of the numbers added together should be 100.\n",
    "my_list = [20, 50, 30]\n",
    "\n",
    "# Create a tuple, called my_tuple, with a single value in it\n",
    "my_tuple = 1,\n",
    "\n",
    "# Modify set2 so that set1.intersection(set2) returns {5, 77, 9, 12}\n",
    "set1 = {14, 5, 9, 31, 12, 77, 67, 8}\n",
    "set2 = {5}\n",
    "set2 = set2.union({9, 12, 77})"
   ]
  },
  {
   "cell_type": "markdown",
   "metadata": {},
   "source": [
    "### Ex3"
   ]
  },
  {
   "cell_type": "markdown",
   "metadata": {},
   "source": [
    "This coding exercise has two steps\n",
    "\n",
    "1. Modify the code so that the evens list contains only the even numbers of the numbers list.\n",
    "\n",
    "2. For part 2, add a clase to the if statement such that if the user's input is 'q', your program print 'Quit'"
   ]
  },
  {
   "cell_type": "code",
   "execution_count": 6,
   "metadata": {},
   "outputs": [
    {
     "name": "stdout",
     "output_type": "stream",
     "text": [
      "Enter your choice: q\n",
      "Quit\n"
     ]
    }
   ],
   "source": [
    "# -- Part 1 --\n",
    "numbers = [1, 2, 3, 4, 5, 6, 7, 8, 9]\n",
    "\n",
    "evens = [number for number in numbers if not(number % 2)]\n",
    "\n",
    "# -- Part 2, must be completed before submitting! --\n",
    "user_input = input(\"Enter your choice: \")\n",
    "if user_input == \"a\":\n",
    "    print(\"Add\")\n",
    "if user_input == 'q':\n",
    "    print('Quit')"
   ]
  },
  {
   "cell_type": "markdown",
   "metadata": {},
   "source": [
    "### Ex4"
   ]
  },
  {
   "cell_type": "code",
   "execution_count": 7,
   "metadata": {},
   "outputs": [],
   "source": [
    "# Complete the function by making sure it returns 42. .\n",
    "def return_42():\n",
    "    return 42\n",
    "\n",
    "# Create a function below, called my_function, that takes two arguments and returns the result of its two arguments multiplied together.\n",
    "\n",
    "def my_function(num1, num2):\n",
    "    return num1 * num2"
   ]
  },
  {
   "cell_type": "markdown",
   "metadata": {},
   "source": [
    "### Ex5"
   ]
  },
  {
   "cell_type": "code",
   "execution_count": 9,
   "metadata": {},
   "outputs": [],
   "source": [
    "# Create a variable called student, with a dictionary.\n",
    "# The dictionary must contain three keys: 'name', 'school', and 'grades'.\n",
    "# The values for each must be 'Jose', 'Computing', and a tuple with the values 66, 77, and 88.\n",
    "student = {\n",
    "    'name': 'Jose',\n",
    "    'school': 'Computing',\n",
    "    'grades': (66, 77, 88)\n",
    "}\n",
    "\n",
    "# Assume the argument, data, is a dictionary.\n",
    "# Modify the grades variable so it accesses the 'grades' key of the data dictionary.\n",
    "def average_grade(data):\n",
    "    grades = data['grades']\n",
    "    return sum(grades) / len(grades)\n",
    "\n",
    "\n",
    "# Implement the function below\n",
    "# Given a list of students (a list of dictionaries), calculate the average grade received on an exam, for the entire class\n",
    "# You must add all the grades of all the students together\n",
    "# You must also count how many grades there are in total in the entire list\n",
    "def average_grade_all_students(student_list):\n",
    "    total = 0\n",
    "    count = 0\n",
    "    for student in student_list:\n",
    "        total += sum(student['grades'])\n",
    "        count += len(student['grades'])\n",
    "\n",
    "    return total / count"
   ]
  },
  {
   "cell_type": "markdown",
   "metadata": {},
   "source": [
    "### Ex6"
   ]
  },
  {
   "cell_type": "code",
   "execution_count": 8,
   "metadata": {},
   "outputs": [],
   "source": [
    "from functools import reduce\n",
    "class Store:\n",
    "    def __init__(self, name):\n",
    "        # You'll need 'name' as an argument to this method.\n",
    "        # Then, initialise 'self.name' to be the argument, and 'self.items' to be an empty list.\n",
    "        self.name = name\n",
    "        self.items = []\n",
    "    \n",
    "    def add_item(self, name, price):\n",
    "        # Create a dictionary with keys name and price, and append that to self.items.\n",
    "        item = {'name': name, 'price': price}\n",
    "        self.items.append(item)\n",
    "    \n",
    "    def stock_price(self):\n",
    "        # Add together all item prices in self.items and return the total.\n",
    "        return reduce(lambda x, y: x + y['price'], self.items, 0)"
   ]
  },
  {
   "cell_type": "markdown",
   "metadata": {},
   "source": [
    "### Ex7"
   ]
  },
  {
   "cell_type": "code",
   "execution_count": 10,
   "metadata": {},
   "outputs": [],
   "source": [
    "class Store:\n",
    "    def __init__(self, name):\n",
    "        self.name = name\n",
    "        self.items = []\n",
    "\n",
    "    def add_item(self, name, price):\n",
    "        self.items.append({\n",
    "            'name': name,\n",
    "            'price': price\n",
    "        })\n",
    "\n",
    "    def stock_price(self):\n",
    "        total = 0\n",
    "        for item in self.items:\n",
    "            total += item['price']\n",
    "        return total\n",
    "\n",
    "    @classmethod\n",
    "    def franchise(cls, store):\n",
    "        # Return another store, with the same name as the argument's name, plus \" - franchise\"\n",
    "        return Store(store.name + ' - franchise')\n",
    "    \n",
    "    @staticmethod\n",
    "    def store_details(store):\n",
    "        # Return a string representing the argument\n",
    "        # It should be in the format 'NAME, total stock price: TOTAL'\n",
    "        return '{0}, total stock price: {1}'.format(store.name, store.stock_price())"
   ]
  }
 ],
 "metadata": {
  "kernelspec": {
   "display_name": "Python 3",
   "language": "python",
   "name": "python3"
  },
  "language_info": {
   "codemirror_mode": {
    "name": "ipython",
    "version": 3
   },
   "file_extension": ".py",
   "mimetype": "text/x-python",
   "name": "python",
   "nbconvert_exporter": "python",
   "pygments_lexer": "ipython3",
   "version": "3.7.7"
  }
 },
 "nbformat": 4,
 "nbformat_minor": 4
}
