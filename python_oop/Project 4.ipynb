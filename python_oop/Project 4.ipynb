{
 "cells": [
  {
   "cell_type": "markdown",
   "metadata": {},
   "source": [
    "Данный проект разделен на 2 части:\n",
    "1. Необходимо написать 2 класса IntegerField и CharField\n",
    "\n",
    "\n",
    "- IntegerField - принимает только целочисленные значения между заданным диапазоном (min_value и max_value)\n",
    "\n",
    "\n",
    "- CharField - принимает только строки между заданным диапазоном длины (min_length и max_length)\n",
    "\n",
    "\n",
    "2. Необходимо создать класс BaseValidator от которого, могут наследоваться IntegerField и CharField"
   ]
  },
  {
   "cell_type": "code",
   "execution_count": 75,
   "metadata": {},
   "outputs": [],
   "source": [
    "import numbers\n",
    "import unittest"
   ]
  },
  {
   "cell_type": "markdown",
   "metadata": {},
   "source": [
    "### Part 1"
   ]
  },
  {
   "cell_type": "code",
   "execution_count": 156,
   "metadata": {},
   "outputs": [],
   "source": [
    "class IntegerField():\n",
    "    def __init__(self, min_value=None, max_value=None):\n",
    "        self._min_value=min_value\n",
    "        self._max_value=max_value\n",
    "        \n",
    "    def __set_name__(self, owner_class, property_name):\n",
    "        self.prop_name = property_name\n",
    "    \n",
    "    def __get__(self, instance, owner_class):\n",
    "        if instance is None:\n",
    "            return self\n",
    "        return instance.__dict__.get(self.prop_name)\n",
    "        \n",
    "    def __set__(self, instance, value):\n",
    "        if not isinstance(value, numbers.Integral):\n",
    "            raise TypeError(f'{self.prop_name} must be integer')\n",
    "        if self._min_value is not None and value < self._min_value:\n",
    "            raise ValueError(f'{self.prop_name} must be great {self._min_value}')\n",
    "        if self._max_value is not None and value > self._max_value:\n",
    "            raise ValueError(f'{self.prop_name} must be least {self._max_value}')\n",
    "        instance.__dict__[self.prop_name] = value\n",
    "\n",
    "class CharField():\n",
    "    def __init__(self, min_length=0, max_length=None):\n",
    "        min_length = min_length or 0\n",
    "        min_length = self._validate(min_length, 'min_length')\n",
    "        max_length = self._validate(max_length, 'max_length')\n",
    "        if max_length is not None and min_length is not None and max_length < min_length:\n",
    "            raise ValueError(f'Max lenght must be >= min length')\n",
    "        \n",
    "        self._min_length=min_length\n",
    "        self._max_length=max_length\n",
    "        \n",
    "    def __set_name__(self, owner_class, property_name):\n",
    "        self.prop_name = property_name\n",
    "    \n",
    "    def __get__(self, instance, owner_class):\n",
    "        if instance is None:\n",
    "            return self\n",
    "        return instance.__dict__.get(self.prop_name)\n",
    "        \n",
    "    def __set__(self, instance, value):\n",
    "        if not isinstance(value, str):\n",
    "            raise TypeError(f'{self.prop_name} must be string')\n",
    "        if self._min_length is not None and len(value) < self._min_length:\n",
    "            raise ValueError(f'Length {self.prop_name} must be great {self._min_length}')\n",
    "        if self._max_length is not None and len(value) > self._max_length:\n",
    "            raise ValueError(f'Length {self.prop_name} must be least {self._max_length}')\n",
    "        instance.__dict__[self.prop_name] = value\n",
    "    \n",
    "    def _validate(self, length, name):\n",
    "        if length is not None:\n",
    "            if not isinstance(length, numbers.Integral):\n",
    "                raise(TypeError(f'{name} must be integral'))\n",
    "                \n",
    "            if length < 0:\n",
    "                return 0\n",
    "        \n",
    "        return length"
   ]
  },
  {
   "cell_type": "code",
   "execution_count": 157,
   "metadata": {},
   "outputs": [],
   "source": [
    "class Person:\n",
    "    name = CharField(1, 50)\n",
    "    age = IntegerField(0, 200)\n",
    "    \n",
    "    def __init__(self, name, age):\n",
    "        self.name = name\n",
    "        self.age = age"
   ]
  },
  {
   "cell_type": "markdown",
   "metadata": {},
   "source": [
    "#### Tests for part 1"
   ]
  },
  {
   "cell_type": "code",
   "execution_count": 158,
   "metadata": {},
   "outputs": [],
   "source": [
    "def run_test(cls_test):\n",
    "    suite = unittest.TestLoader().loadTestsFromTestCase(cls_test)\n",
    "    runner = unittest.TextTestRunner(verbosity=2)\n",
    "    runner.run(suite)"
   ]
  },
  {
   "cell_type": "code",
   "execution_count": 159,
   "metadata": {},
   "outputs": [],
   "source": [
    "class TestsFields(unittest.TestCase):\n",
    "    def setUp(self):\n",
    "        self._name = 'Tom'\n",
    "        self._age = 20\n",
    "    \n",
    "    def test_create(self):\n",
    "        p = Person('Tom', 20)\n",
    "        \n",
    "        self.assertEqual(p.name, self._name)\n",
    "        self.assertEqual(p.age, self._age)\n",
    "    \n",
    "    def test_invalid_type(self):\n",
    "        with self.assertRaises(TypeError):\n",
    "            Person(name=['T', 'o', 'm'], age=self._age)\n",
    "        \n",
    "        with self.assertRaises(TypeError):\n",
    "            Person(name=self._name, age='20')\n",
    "        \n",
    "        with self.assertRaises(TypeError):\n",
    "            p = Person(name=self._name, age=self._age)\n",
    "            p.age = '20'\n",
    "            \n",
    "        with self.assertRaises(TypeError):\n",
    "            p = Person(name=self._name, age=self._age)\n",
    "            p.name = 356\n",
    "    \n",
    "    def test_invalid_value(self):\n",
    "        with self.assertRaises(ValueError):\n",
    "            Person(name='', age=self._age)\n",
    "        \n",
    "        with self.assertRaises(ValueError):\n",
    "            Person(name=self._name, age=500)\n",
    "        \n",
    "        with self.assertRaises(ValueError):\n",
    "            p = Person(name=self._name, age=self._age)\n",
    "            p.age = 500\n",
    "            \n",
    "        with self.assertRaises(ValueError):\n",
    "            p = Person(name=self._name, age=self._age)\n",
    "            p.name = ''"
   ]
  },
  {
   "cell_type": "code",
   "execution_count": 160,
   "metadata": {},
   "outputs": [
    {
     "name": "stderr",
     "output_type": "stream",
     "text": [
      "test_create (__main__.TestsFields) ... ok\n",
      "test_invalid_type (__main__.TestsFields) ... ok\n",
      "test_invalid_value (__main__.TestsFields) ... ok\n",
      "\n",
      "----------------------------------------------------------------------\n",
      "Ran 3 tests in 0.004s\n",
      "\n",
      "OK\n"
     ]
    }
   ],
   "source": [
    "run_test(TestsFields)"
   ]
  },
  {
   "cell_type": "markdown",
   "metadata": {},
   "source": [
    "### Part 2"
   ]
  },
  {
   "cell_type": "code",
   "execution_count": 166,
   "metadata": {},
   "outputs": [],
   "source": [
    "class BaseValidator:\n",
    "    def __init__(self, min_value=None, max_value=None):\n",
    "        if max_value is not None and min_value is not None and max_value < min_value:\n",
    "            raise ValueError(f'Max value must be >= min value')\n",
    "        \n",
    "        self._min = min_value\n",
    "        self._max = max_value\n",
    "    \n",
    "    def __set_name__(self, owner_class, property_name):\n",
    "        self.prop_name = property_name\n",
    "    \n",
    "    def __get__(self, instance, owner_class):\n",
    "        if instance is None:\n",
    "            return self\n",
    "        return instance.__dict__.get(self.prop_name)\n",
    "    \n",
    "    def __set__(self, instance, value):\n",
    "        self.validate(value)\n",
    "        instance.__dict__[self.prop_name] = value\n",
    "    \n",
    "    def validate(self, value):\n",
    "        pass"
   ]
  },
  {
   "cell_type": "code",
   "execution_count": 175,
   "metadata": {},
   "outputs": [],
   "source": [
    "class IntegerField(BaseValidator):\n",
    "    def validate(self, value):\n",
    "        if not isinstance(value, numbers.Integral):\n",
    "            raise TypeError(f'{self.prop_name} must be an integer.')\n",
    "        if self._min is not None and value < self._min:\n",
    "            raise ValueError(f'{self.prop_name} must be >= {self._min}.')\n",
    "        if self._max is not None and value > self._max:\n",
    "            raise ValueError(f'{self.prop_name} must be <= {self._max}')\n",
    "\n",
    "class CharField(BaseValidator):\n",
    "    def __init__(self, min_, max_):\n",
    "        min_ = max(min_ or 0, 0)\n",
    "        super().__init__(min_, max_)\n",
    "        \n",
    "    def validate(self, value):\n",
    "        if not isinstance(value, str):\n",
    "            raise TypeError(f'{self.prop_name} must be a string.')\n",
    "        if self._min is not None and len(value) < self._min:\n",
    "            raise ValueError(f'{self.prop_name} must be >= {self._min} chars.')\n",
    "        if self._max is not None and len(value) > self._max:\n",
    "            raise ValueError(f'{self.prop_name} must be <= {self._max} chars')"
   ]
  },
  {
   "cell_type": "code",
   "execution_count": 176,
   "metadata": {},
   "outputs": [],
   "source": [
    "class Person:\n",
    "    name = CharField(1, 50)\n",
    "    age = IntegerField(0, 200)\n",
    "    \n",
    "    def __init__(self, name, age):\n",
    "        self.name = name\n",
    "        self.age = age"
   ]
  },
  {
   "cell_type": "markdown",
   "metadata": {},
   "source": [
    "#### Tests for part 2"
   ]
  },
  {
   "cell_type": "code",
   "execution_count": 177,
   "metadata": {},
   "outputs": [],
   "source": [
    "class TestsValidator(unittest.TestCase):\n",
    "    def setUp(self):\n",
    "        self._name = 'Tom'\n",
    "        self._age = 20\n",
    "    \n",
    "    def test_create(self):\n",
    "        p = Person('Tom', 20)\n",
    "        \n",
    "        self.assertEqual(p.name, self._name)\n",
    "        self.assertEqual(p.age, self._age)\n",
    "    \n",
    "    def test_change_age_name(self):\n",
    "        p = Person(self._name, self._age)\n",
    "        new_name = 'Jerry'\n",
    "        new_age = 15\n",
    "        \n",
    "        p.name = new_name\n",
    "        self.assertEqual(new_name, p.name)\n",
    "        p.age = new_age\n",
    "        self.as\n",
    "    \n",
    "    def test_invalid_type(self):\n",
    "        with self.assertRaises(TypeError):\n",
    "            Person(name=['T', 'o', 'm'], age=self._age)\n",
    "        \n",
    "        with self.assertRaises(TypeError):\n",
    "            Person(name=self._name, age='20')\n",
    "        \n",
    "        with self.assertRaises(TypeError):\n",
    "            p = Person(name=self._name, age=self._age)\n",
    "            p.age = '20'\n",
    "            \n",
    "        with self.assertRaises(TypeError):\n",
    "            p = Person(name=self._name, age=self._age)\n",
    "            p.name = 356\n",
    "    \n",
    "    def test_invalid_value(self):\n",
    "        with self.assertRaises(ValueError):\n",
    "            Person(name='', age=self._age)\n",
    "        \n",
    "        with self.assertRaises(ValueError):\n",
    "            Person(name=self._name, age=500)\n",
    "        \n",
    "        with self.assertRaises(ValueError):\n",
    "            p = Person(name=self._name, age=self._age)\n",
    "            p.age = 500\n",
    "            \n",
    "        with self.assertRaises(ValueError):\n",
    "            p = Person(name=self._name, age=self._age)\n",
    "            p.name = ''"
   ]
  },
  {
   "cell_type": "code",
   "execution_count": 178,
   "metadata": {},
   "outputs": [
    {
     "name": "stderr",
     "output_type": "stream",
     "text": [
      "test_create (__main__.TestsValidator) ... ok\n",
      "test_invalid_type (__main__.TestsValidator) ... ok\n",
      "test_invalid_value (__main__.TestsValidator) ... ok\n",
      "\n",
      "----------------------------------------------------------------------\n",
      "Ran 3 tests in 0.003s\n",
      "\n",
      "OK\n"
     ]
    }
   ],
   "source": [
    "run_test(TestsValidator)"
   ]
  }
 ],
 "metadata": {
  "kernelspec": {
   "display_name": "Python 3",
   "language": "python",
   "name": "python3"
  },
  "language_info": {
   "codemirror_mode": {
    "name": "ipython",
    "version": 3
   },
   "file_extension": ".py",
   "mimetype": "text/x-python",
   "name": "python",
   "nbconvert_exporter": "python",
   "pygments_lexer": "ipython3",
   "version": "3.7.7"
  }
 },
 "nbformat": 4,
 "nbformat_minor": 4
}
