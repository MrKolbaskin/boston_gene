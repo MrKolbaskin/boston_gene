{
 "cells": [
  {
   "cell_type": "markdown",
   "metadata": {},
   "source": [
    "Необходимо написать enumeration AppException, который бы содержал в себе все возможные исключения.\n",
    "\n",
    "Каждое исключение должно ассоциироваться с именем, кодом, стандартным сообщением ошибки, типом исключения\n",
    "\n",
    "Индексирование исключений может происходить как с помощью имени, так с помощью кода исключения"
   ]
  },
  {
   "cell_type": "code",
   "execution_count": 1,
   "metadata": {},
   "outputs": [],
   "source": [
    "import enum"
   ]
  },
  {
   "cell_type": "code",
   "execution_count": 24,
   "metadata": {},
   "outputs": [],
   "source": [
    "class AppException(enum.Enum):\n",
    "    \n",
    "    NotAnInteger = 100, ValueError, 'Value is not an integer'\n",
    "    NotAList = 101, TypeError, 'Value is not a list'\n",
    "    \n",
    "    def __new__(cls, member_code, member_ex_type, member_default_message):\n",
    "        member = object.__new__(cls)\n",
    "        \n",
    "        #установим атрибуты классу, которые нужны нам\n",
    "        member._value_ = member_code\n",
    "        member.exception = member_ex_type\n",
    "        member.message = member_default_message\n",
    "        \n",
    "        return member\n",
    "    \n",
    "    def throw(self, message=None):\n",
    "        message = message or self.message\n",
    "        raise self.exception(message)"
   ]
  },
  {
   "cell_type": "code",
   "execution_count": 25,
   "metadata": {},
   "outputs": [
    {
     "name": "stdout",
     "output_type": "stream",
     "text": [
      "Value is not an integer\n"
     ]
    }
   ],
   "source": [
    "try:\n",
    "    AppException.NotAnInteger.throw()\n",
    "except ValueError as ex:\n",
    "    print(ex)"
   ]
  },
  {
   "cell_type": "code",
   "execution_count": 26,
   "metadata": {},
   "outputs": [
    {
     "name": "stdout",
     "output_type": "stream",
     "text": [
      "Value is not a list\n"
     ]
    }
   ],
   "source": [
    "try:\n",
    "    AppException.NotAList.throw()\n",
    "except TypeError as ex:\n",
    "    print(ex)"
   ]
  }
 ],
 "metadata": {
  "kernelspec": {
   "display_name": "Python 3",
   "language": "python",
   "name": "python3"
  },
  "language_info": {
   "codemirror_mode": {
    "name": "ipython",
    "version": 3
   },
   "file_extension": ".py",
   "mimetype": "text/x-python",
   "name": "python",
   "nbconvert_exporter": "python",
   "pygments_lexer": "ipython3",
   "version": "3.7.7"
  }
 },
 "nbformat": 4,
 "nbformat_minor": 4
}
