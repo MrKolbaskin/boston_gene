{
 "cells": [
  {
   "cell_type": "markdown",
   "metadata": {},
   "source": [
    "### Project 6 - Exceptions"
   ]
  },
  {
   "cell_type": "markdown",
   "metadata": {},
   "source": [
    "Suppose we have a Widget online sales application and we are writing the backend for it. We want a base `WidgetException` class that we will use as the base class for all our custom exceptions we raise from our Widget application."
   ]
  },
  {
   "cell_type": "markdown",
   "metadata": {},
   "source": [
    "Furthermore we have determined that we will need the following categories of exceptions:"
   ]
  },
  {
   "cell_type": "markdown",
   "metadata": {},
   "source": [
    "```\n",
    "1. Supplier exceptions\n",
    "    a. Not manufactured anymore\n",
    "    b. Production delayed\n",
    "    c. Shipping delayed\n",
    "    \n",
    "2. Checkout exceptions\n",
    "    a. Inventory type exceptions\n",
    "        - out of stock\n",
    "    b. Pricing exceptions\n",
    "        - invalid coupon code\n",
    "        - cannot stack coupons\n",
    "```"
   ]
  },
  {
   "cell_type": "markdown",
   "metadata": {},
   "source": [
    "Write an exception class hierarchy to capture this. In addition, we would like to implement the following functionality:\n",
    "* implement separate internal error message and user error message\n",
    "* implement an http status code associated to each exception type (keep it simple, use a 500 (server error) error for everything except invalid coupon code, and cannot stack coupons, these can be 400 (bad request)\n",
    "* implement a logging function that can be called to log the exception details, time it occurred, etc.\n",
    "* implement a function that can be called to produce a json string containing the exception details you want to display to your user (include http status code (e.g. 400), the user error message, etc)"
   ]
  },
  {
   "cell_type": "markdown",
   "metadata": {},
   "source": [
    "##### Bonus"
   ]
  },
  {
   "cell_type": "markdown",
   "metadata": {},
   "source": [
    "Log the traceback too - you'll have to do a bit of research for that! \n",
    "\n",
    "I'm going to use the `TracebackException` class in the `traceback` module:\n",
    "\n",
    "https://docs.python.org/3/library/traceback.html#tracebackexception-objects"
   ]
  },
  {
   "cell_type": "markdown",
   "metadata": {},
   "source": [
    "In particular, look at the class method `from_exception` (and remember that inside your exception class, the exception will be `self`!) and the `format` instance method. That method returns a generator, so you'll need to `list` it to print out everything in that traceback."
   ]
  },
  {
   "cell_type": "markdown",
   "metadata": {},
   "source": [
    "Good luck!"
   ]
  },
  {
   "cell_type": "markdown",
   "metadata": {},
   "source": [
    "### Solution"
   ]
  },
  {
   "cell_type": "code",
   "execution_count": 1,
   "metadata": {},
   "outputs": [],
   "source": [
    "from http import HTTPStatus\n",
    "from datetime import datetime\n",
    "import json\n",
    "import traceback"
   ]
  },
  {
   "cell_type": "code",
   "execution_count": 2,
   "metadata": {},
   "outputs": [],
   "source": [
    "class WidgetException(Exception):\n",
    "    '''Exception for widget'''\n",
    "    \n",
    "    http_status = HTTPStatus.INTERNAL_SERVER_ERROR\n",
    "    user_err_message = 'This is message for user'\n",
    "    internal_err_message = 'Internal message'\n",
    "    \n",
    "    def __init__(self, *args, user_err_message=None):\n",
    "        if args:\n",
    "            self.internal_err_message = args[0]\n",
    "            super().__init__(*args)\n",
    "        else:\n",
    "            super().__init__(self.internal_err_message)\n",
    "        \n",
    "        if user_err_message is not None:\n",
    "            self.user_err_message = user_err_message\n",
    "            \n",
    "    @property\n",
    "    def traceback(self):\n",
    "        return traceback.TracebackException.from_exception(self).format()\n",
    "    \n",
    "    def log(self):\n",
    "        exception = {\n",
    "            'type': type(self).__name__,\n",
    "            'http_status': self.http_status,\n",
    "            'message': self.internal_err_message,\n",
    "            'args': self.args[1:]\n",
    "        }\n",
    "        print(f'EXCEPTION {datetime.utcnow().isoformat()}: {exception}')\n",
    "    \n",
    "    def to_json(self):\n",
    "        err = {\n",
    "            'status': self.http_status,\n",
    "            'message': self.user_err_message,\n",
    "            'category': type(self).__name__\n",
    "        }\n",
    "        return json.dumps(err)"
   ]
  },
  {
   "cell_type": "code",
   "execution_count": 3,
   "metadata": {},
   "outputs": [],
   "source": [
    "class SuplierException(WidgetException):\n",
    "    '''Suplier exception'''\n",
    "    internal_err_message = 'Supplier exception.'\n",
    "    \n",
    "class NotManufacturedException(SuplierException):\n",
    "    '''Not manufactured anymore'''\n",
    "    internal_err_message = 'Widget is no longer manufactured by supplier.'\n",
    "\n",
    "class ProductionDelayedException(SuplierException):\n",
    "    '''Production delayed'''\n",
    "    internal_err_message = 'Widget production has been delayed by supplier.'\n",
    "\n",
    "class ShippingDelayedException(SuplierException):\n",
    "    '''Shipping delayed'''\n",
    "    internal_err_message = 'Widget shipping has been delayed by supplier.'"
   ]
  },
  {
   "cell_type": "code",
   "execution_count": 4,
   "metadata": {},
   "outputs": [],
   "source": [
    "class CheckoutExceptions(WidgetException):\n",
    "    '''Checkout exceptions'''\n",
    "    internal_err_message = 'Checkout exception.'\n",
    "\n",
    "class InventoryTypeExceptions(CheckoutExceptions):\n",
    "    '''Inventory Type Exceptions'''\n",
    "    internal_err_message = 'Checkout inventory exception.'\n",
    "\n",
    "class OutOfStockExceptions(InventoryTypeExceptions):\n",
    "    '''out of stock'''\n",
    "    internal_err_message = 'Inventory out of stock'\n",
    "\n",
    "class PricingExceptions(CheckoutExceptions):\n",
    "    '''pricing exceptions'''\n",
    "    internal_err_message = 'Checkout pricing exception.'\n",
    "\n",
    "class InvalidCodeExceptions(PricingExceptions):\n",
    "    '''invalud code coupon'''\n",
    "    internal_err_message = 'Invalid checkout coupon code.'\n",
    "    http_status = HTTPStatus.BAD_REQUEST\n",
    "\n",
    "class StackCouponExceptions(PricingExceptions):\n",
    "    '''cannot stack coupons'''\n",
    "    internal_err_message = 'Cannot stack checkout coupon codes.'\n",
    "    http_status = HTTPStatus.BAD_REQUEST"
   ]
  },
  {
   "cell_type": "code",
   "execution_count": 7,
   "metadata": {},
   "outputs": [
    {
     "name": "stdout",
     "output_type": "stream",
     "text": [
      "EXCEPTION 2020-07-17T09:56:44.316676: {'type': 'InvalidCodeExceptions', 'http_status': <HTTPStatus.BAD_REQUEST: 400>, 'message': 'Invalid checkout coupon code.', 'args': ()}\n",
      "-------------\n",
      "{\"status\": 400, \"message\": \"Sorry this is coupon now is unavailable\", \"category\": \"InvalidCodeExceptions\"}\n",
      "-------------\n",
      "Traceback (most recent call last):\n",
      "  File \"<ipython-input-7-c368b633edbf>\", line 2, in <module>\n",
      "    raise InvalidCodeExceptions(user_err_message='Sorry this is coupon now is unavailable')\n",
      "InvalidCodeExceptions: Invalid checkout coupon code.\n",
      "\n"
     ]
    }
   ],
   "source": [
    "try:\n",
    "    raise InvalidCodeExceptions(user_err_message='Sorry this is coupon now is unavailable')\n",
    "except InvalidCodeExceptions as ex:\n",
    "    ex.log()\n",
    "    print('-------------')\n",
    "    print(ex.to_json())\n",
    "    print('-------------')\n",
    "    print(''.join(ex.traceback))"
   ]
  }
 ],
 "metadata": {
  "kernelspec": {
   "display_name": "Python 3",
   "language": "python",
   "name": "python3"
  },
  "language_info": {
   "codemirror_mode": {
    "name": "ipython",
    "version": 3
   },
   "file_extension": ".py",
   "mimetype": "text/x-python",
   "name": "python",
   "nbconvert_exporter": "python",
   "pygments_lexer": "ipython3",
   "version": "3.7.7"
  }
 },
 "nbformat": 4,
 "nbformat_minor": 2
}
